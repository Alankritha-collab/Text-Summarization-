{
 "cells": [
  {
   "cell_type": "code",
   "execution_count": 1,
   "metadata": {},
   "outputs": [
    {
     "name": "stdout",
     "output_type": "stream",
     "text": [
      "Requirement already satisfied: pyttsx3 in c:\\users\\user\\anaconda3\\lib\\site-packages (2.90)\n",
      "Requirement already satisfied: pywin32; platform_system == \"Windows\" in c:\\users\\user\\anaconda3\\lib\\site-packages (from pyttsx3) (227)\n",
      "Requirement already satisfied: comtypes; platform_system == \"Windows\" in c:\\users\\user\\anaconda3\\lib\\site-packages (from pyttsx3) (1.1.7)\n",
      "Requirement already satisfied: pypiwin32; platform_system == \"Windows\" in c:\\users\\user\\anaconda3\\lib\\site-packages (from pyttsx3) (223)\n",
      "Note: you may need to restart the kernel to use updated packages.\n"
     ]
    }
   ],
   "source": [
    "pip install pyttsx3 "
   ]
  },
  {
   "cell_type": "code",
   "execution_count": 2,
   "metadata": {},
   "outputs": [
    {
     "name": "stdout",
     "output_type": "stream",
     "text": [
      "Requirement already satisfied: SpeechRecognition in c:\\users\\user\\anaconda3\\lib\\site-packages (3.8.1)\n",
      "Note: you may need to restart the kernel to use updated packages.\n"
     ]
    }
   ],
   "source": [
    "pip install SpeechRecognition"
   ]
  },
  {
   "cell_type": "code",
   "execution_count": 3,
   "metadata": {},
   "outputs": [
    {
     "name": "stdout",
     "output_type": "stream",
     "text": [
      "Requirement already satisfied: PyAudio in c:\\users\\user\\anaconda3\\lib\\site-packages (0.2.11)\n",
      "Note: you may need to restart the kernel to use updated packages.\n"
     ]
    }
   ],
   "source": [
    "pip install PyAudio"
   ]
  },
  {
   "cell_type": "code",
   "execution_count": 4,
   "metadata": {},
   "outputs": [
    {
     "name": "stdout",
     "output_type": "stream",
     "text": [
      "Requirement already satisfied: datetime in c:\\users\\user\\anaconda3\\lib\\site-packages (4.5)\n",
      "Requirement already satisfied: zope.interface in c:\\users\\user\\anaconda3\\lib\\site-packages (from datetime) (5.1.2)\n",
      "Requirement already satisfied: pytz in c:\\users\\user\\anaconda3\\lib\\site-packages (from datetime) (2020.1)\n",
      "Requirement already satisfied: setuptools in c:\\users\\user\\anaconda3\\lib\\site-packages (from zope.interface->datetime) (50.3.1.post20201107)\n",
      "Note: you may need to restart the kernel to use updated packages.\n"
     ]
    }
   ],
   "source": [
    "pip install datetime"
   ]
  },
  {
   "cell_type": "code",
   "execution_count": 5,
   "metadata": {},
   "outputs": [
    {
     "name": "stdout",
     "output_type": "stream",
     "text": [
      "Requirement already satisfied: selenium in c:\\users\\user\\anaconda3\\lib\\site-packages (4.1.5)Note: you may need to restart the kernel to use updated packages.\n",
      "Requirement already satisfied: trio-websocket~=0.9 in c:\\users\\user\\anaconda3\\lib\\site-packages (from selenium) (0.9.2)\n",
      "Collecting urllib3[secure,socks]~=1.26\n",
      "  Downloading urllib3-1.26.12-py2.py3-none-any.whl (140 kB)\n",
      "Requirement already satisfied: trio~=0.17 in c:\\users\\user\\anaconda3\\lib\\site-packages (from selenium) (0.20.0)\n",
      "Requirement already satisfied: wsproto>=0.14 in c:\\users\\user\\anaconda3\\lib\\site-packages (from trio-websocket~=0.9->selenium) (1.1.0)\n",
      "Requirement already satisfied: async-generator>=1.10 in c:\\users\\user\\anaconda3\\lib\\site-packages (from trio-websocket~=0.9->selenium) (1.10)\n",
      "Requirement already satisfied: cryptography>=1.3.4; extra == \"secure\" in c:\\users\\user\\anaconda3\\lib\\site-packages (from urllib3[secure,socks]~=1.26->selenium) (3.1.1)\n",
      "Requirement already satisfied: certifi; extra == \"secure\" in c:\\users\\user\\anaconda3\\lib\\site-packages (from urllib3[secure,socks]~=1.26->selenium) (2020.6.20)\n",
      "Requirement already satisfied: idna>=2.0.0; extra == \"secure\" in c:\\users\\user\\anaconda3\\lib\\site-packages (from urllib3[secure,socks]~=1.26->selenium) (2.10)\n",
      "Requirement already satisfied: pyOpenSSL>=0.14; extra == \"secure\" in c:\\users\\user\\anaconda3\\lib\\site-packages (from urllib3[secure,socks]~=1.26->selenium) (19.1.0)\n",
      "Collecting urllib3-secure-extra; extra == \"secure\"\n",
      "  Downloading urllib3_secure_extra-0.1.0-py2.py3-none-any.whl (1.4 kB)\n",
      "Requirement already satisfied: PySocks!=1.5.7,<2.0,>=1.5.6; extra == \"socks\" in c:\\users\\user\\anaconda3\\lib\\site-packages (from urllib3[secure,socks]~=1.26->selenium) (1.7.1)\n",
      "Requirement already satisfied: attrs>=19.2.0 in c:\\users\\user\\anaconda3\\lib\\site-packages (from trio~=0.17->selenium) (20.3.0)\n",
      "Requirement already satisfied: outcome in c:\\users\\user\\anaconda3\\lib\\site-packages (from trio~=0.17->selenium) (1.1.0)\n",
      "Requirement already satisfied: cffi>=1.14; os_name == \"nt\" and implementation_name != \"pypy\" in c:\\users\\user\\anaconda3\\lib\\site-packages (from trio~=0.17->selenium) (1.14.3)\n",
      "Requirement already satisfied: sortedcontainers in c:\\users\\user\\anaconda3\\lib\\site-packages (from trio~=0.17->selenium) (2.2.2)\n",
      "Requirement already satisfied: sniffio in c:\\users\\user\\anaconda3\\lib\\site-packages (from trio~=0.17->selenium) (1.2.0)\n",
      "Requirement already satisfied: h11<1,>=0.9.0 in c:\\users\\user\\anaconda3\\lib\\site-packages (from wsproto>=0.14->trio-websocket~=0.9->selenium) (0.9.0)\n",
      "Requirement already satisfied: six>=1.4.1 in c:\\users\\user\\anaconda3\\lib\\site-packages (from cryptography>=1.3.4; extra == \"secure\"->urllib3[secure,socks]~=1.26->selenium) (1.15.0)\n",
      "Requirement already satisfied: pycparser in c:\\users\\user\\anaconda3\\lib\\site-packages (from cffi>=1.14; os_name == \"nt\" and implementation_name != \"pypy\"->trio~=0.17->selenium) (2.20)\n",
      "Installing collected packages: urllib3-secure-extra, urllib3\n",
      "  Attempting uninstall: urllib3\n",
      "    Found existing installation: urllib3 1.25.11\n",
      "    Uninstalling urllib3-1.25.11:\n",
      "      Successfully uninstalled urllib3-1.25.11\n",
      "Successfully installed urllib3-1.26.12 urllib3-secure-extra-0.1.0\n",
      "\n"
     ]
    },
    {
     "name": "stderr",
     "output_type": "stream",
     "text": [
      "ERROR: After October 2020 you may experience errors when installing or updating packages. This is because pip will change the way that it resolves dependency conflicts.\n",
      "\n",
      "We recommend you use --use-feature=2020-resolver to test your packages with the new resolver before it becomes the default.\n",
      "\n",
      "conda 4.10.1 requires ruamel_yaml_conda>=0.11.14, which is not installed.\n",
      "conda-repo-cli 1.0.4 requires pathlib, which is not installed.\n",
      "requests 2.24.0 requires urllib3!=1.25.0,!=1.25.1,<1.26,>=1.21.1, but you'll have urllib3 1.26.12 which is incompatible.\n"
     ]
    }
   ],
   "source": [
    "pip install selenium"
   ]
  },
  {
   "cell_type": "code",
   "execution_count": 6,
   "metadata": {},
   "outputs": [
    {
     "name": "stdout",
     "output_type": "stream",
     "text": [
      "Requirement already satisfied: webdriver-manager in c:\\users\\user\\anaconda3\\lib\\site-packages (3.8.2)Note: you may need to restart the kernel to use updated packages.\n"
     ]
    },
    {
     "name": "stderr",
     "output_type": "stream",
     "text": [
      "ERROR: After October 2020 you may experience errors when installing or updating packages. This is because pip will change the way that it resolves dependency conflicts.\n",
      "\n",
      "We recommend you use --use-feature=2020-resolver to test your packages with the new resolver before it becomes the default.\n",
      "\n",
      "conda 4.10.1 requires ruamel_yaml_conda>=0.11.14, which is not installed.\n",
      "conda-repo-cli 1.0.4 requires pathlib, which is not installed.\n",
      "selenium 4.1.5 requires urllib3[secure,socks]~=1.26, but you'll have urllib3 1.25.11 which is incompatible.\n"
     ]
    },
    {
     "name": "stdout",
     "output_type": "stream",
     "text": [
      "\n",
      "Requirement already satisfied: python-dotenv in c:\\users\\user\\anaconda3\\lib\\site-packages (from webdriver-manager) (0.20.0)\n",
      "Requirement already satisfied: requests in c:\\users\\user\\anaconda3\\lib\\site-packages (from webdriver-manager) (2.24.0)\n",
      "Requirement already satisfied: idna<3,>=2.5 in c:\\users\\user\\anaconda3\\lib\\site-packages (from requests->webdriver-manager) (2.10)\n",
      "Collecting urllib3!=1.25.0,!=1.25.1,<1.26,>=1.21.1\n",
      "  Using cached urllib3-1.25.11-py2.py3-none-any.whl (127 kB)\n",
      "Requirement already satisfied: chardet<4,>=3.0.2 in c:\\users\\user\\anaconda3\\lib\\site-packages (from requests->webdriver-manager) (3.0.4)\n",
      "Requirement already satisfied: certifi>=2017.4.17 in c:\\users\\user\\anaconda3\\lib\\site-packages (from requests->webdriver-manager) (2020.6.20)\n",
      "Installing collected packages: urllib3\n",
      "  Attempting uninstall: urllib3\n",
      "    Found existing installation: urllib3 1.26.12\n",
      "    Uninstalling urllib3-1.26.12:\n",
      "      Successfully uninstalled urllib3-1.26.12\n",
      "Successfully installed urllib3-1.25.11\n"
     ]
    }
   ],
   "source": [
    "pip install webdriver-manager"
   ]
  },
  {
   "cell_type": "code",
   "execution_count": 7,
   "metadata": {},
   "outputs": [
    {
     "name": "stdout",
     "output_type": "stream",
     "text": [
      "Requirement already satisfied: yt-auto-search-python in c:\\users\\user\\anaconda3\\lib\\site-packages (1.0.0)Note: you may need to restart the kernel to use updated packages.\n",
      "Requirement already satisfied: requests in c:\\users\\user\\anaconda3\\lib\\site-packages (from yt-auto-search-python) (2.24.0)\n",
      "Requirement already satisfied: btstudio in c:\\users\\user\\anaconda3\\lib\\site-packages (from yt-auto-search-python) (1.0.0)\n",
      "Requirement already satisfied: certifi>=2017.4.17 in c:\\users\\user\\anaconda3\\lib\\site-packages (from requests->yt-auto-search-python) (2020.6.20)\n",
      "Requirement already satisfied: chardet<4,>=3.0.2 in c:\\users\\user\\anaconda3\\lib\\site-packages (from requests->yt-auto-search-python) (3.0.4)\n",
      "Requirement already satisfied: idna<3,>=2.5 in c:\\users\\user\\anaconda3\\lib\\site-packages (from requests->yt-auto-search-python) (2.10)\n",
      "Requirement already satisfied: urllib3!=1.25.0,!=1.25.1,<1.26,>=1.21.1 in c:\\users\\user\\anaconda3\\lib\\site-packages (from requests->yt-auto-search-python) (1.25.11)\n",
      "Requirement already satisfied: tqdm in c:\\users\\user\\anaconda3\\lib\\site-packages (from btstudio->yt-auto-search-python) (4.50.2)\n",
      "\n"
     ]
    }
   ],
   "source": [
    "pip install yt-auto-search-python"
   ]
  },
  {
   "cell_type": "code",
   "execution_count": 8,
   "metadata": {},
   "outputs": [
    {
     "name": "stdout",
     "output_type": "stream",
     "text": [
      "Requirement already satisfied: requests in c:\\users\\user\\anaconda3\\lib\\site-packages (2.24.0)\n",
      "Requirement already satisfied: idna<3,>=2.5 in c:\\users\\user\\anaconda3\\lib\\site-packages (from requests) (2.10)\n",
      "Requirement already satisfied: urllib3!=1.25.0,!=1.25.1,<1.26,>=1.21.1 in c:\\users\\user\\anaconda3\\lib\\site-packages (from requests) (1.25.11)\n",
      "Requirement already satisfied: chardet<4,>=3.0.2 in c:\\users\\user\\anaconda3\\lib\\site-packages (from requests) (3.0.4)\n",
      "Requirement already satisfied: certifi>=2017.4.17 in c:\\users\\user\\anaconda3\\lib\\site-packages (from requests) (2020.6.20)\n",
      "Note: you may need to restart the kernel to use updated packages.\n"
     ]
    }
   ],
   "source": [
    "pip install requests"
   ]
  },
  {
   "cell_type": "code",
   "execution_count": 75,
   "metadata": {},
   "outputs": [
    {
     "name": "stdout",
     "output_type": "stream",
     "text": [
      "Requirement already satisfied: pyjokes in c:\\users\\user\\anaconda3\\lib\\site-packages (0.6.0)Note: you may need to restart the kernel to use updated packages.\n",
      "\n"
     ]
    }
   ],
   "source": [
    "pip install pyjokes"
   ]
  },
  {
   "cell_type": "code",
   "execution_count": 1,
   "metadata": {},
   "outputs": [],
   "source": [
    "import pyttsx3 as p\n",
    "import speech_recognition as sr\n",
    "import datetime\n",
    "import time \n",
    "from selenium import webdriver\n",
    "from selenium.webdriver.chrome.service import Service\n",
    "from webdriver_manager.chrome import ChromeDriverManager\n",
    "from configparser import ConfigParser\n",
    "import pyjokes\n",
    "import requests\n",
    "import randfacts"
   ]
  },
  {
   "cell_type": "code",
   "execution_count": 2,
   "metadata": {},
   "outputs": [],
   "source": [
    "engine = p.init() # initating p.init class engine is an instance of a p.init class which is insidethe pyttsx3 module  it just gets the informaion from the current driver \n",
    "rate =engine.getProperty('rate')# properties of pyttsx3\n",
    "engine.setProperty('rate', 180) #setting the speed of the voice \n",
    "voices = engine.getProperty('voices')\n",
    "engine.setProperty('voice',voices[1].id)# female voice\n",
    "#print(rate)\n",
    "#print(voices)"
   ]
  },
  {
   "cell_type": "code",
   "execution_count": 3,
   "metadata": {},
   "outputs": [],
   "source": [
    "def speak(text):\n",
    "    engine.say(text)\n",
    "    engine.runAndWait()\n",
    "    \n",
    "def time_():\n",
    "    Time = datetime.datetime.now().strftime(\"%H:%M:%S\") #for 24hours is H; for 12hours is I. #string if time :strftime\n",
    "    speak(\"the current time is \")\n",
    "    speak(Time)\n",
    "    \n",
    "def date_():\n",
    "    year = datetime.datetime.now().year\n",
    "    month= datetime.datetime.now().month\n",
    "    date=datetime.datetime.now().day\n",
    "    speak(\"the current date is \")\n",
    "    speak(date)\n",
    "    speak(month)\n",
    "    speak(year)\n",
    "    \n",
    "def wishMe():\n",
    "    speak(\"Hi am Kruthiksa\")\n",
    "    #time_()\n",
    "    #date_()\n",
    "    hour = datetime.datetime.now().hour\n",
    "    if hour>=6 and hour<12:\n",
    "        speak(\"good morning\")\n",
    "    elif hour>=12 and hour<16:\n",
    "        speak(\"good Afternoon\")\n",
    "    elif hour>=16 and hour<18:\n",
    "        speak(\"good evening\")\n",
    "    elif  hour>=18 and hour<22:\n",
    "        speak(\"good evening\")\n",
    "    else:\n",
    "        if hour>=22:\n",
    "            speak(\"Its late night\")\n",
    "            speak(\"how can I help you\")\n",
    "    speak(\"How are you doing today!\")\n",
    "    \n",
    "\n",
    "parser = ConfigParser()\n",
    "_ = parser.read(\"key.cfg\")\n",
    "\n",
    "key = parser.get(\"my_api\",\"auth_key\")\n",
    "#print(key)\n",
    "api_address = \"http://newsapi.org/v2/top-headlines?country=us&apikey=\"+ key\n",
    "\n",
    "json_data = requests.get(api_address).json()\n",
    "#print(json_data)\n",
    "ar=[]\n",
    "\n",
    "def news():\n",
    "    for i in range(3):\n",
    "        ar.append(\"Number\"+ str(i+1) + json_data[\"articles\"][i][\"title\"]+ \".\")     \n",
    "    return ar\n",
    "arr=news()\n",
    "\n",
    "class inflow():\n",
    "    def __init__(self):\n",
    "        self.driver = webdriver.Chrome(service=Service(ChromeDriverManager().install()))\n",
    "        self.driver.get(\"https://www.google.com\")\n",
    "        #self.driver = webdriver.Chrome(executable_path = 'C:/Program Files (x86)/Google/Chrome/Application/chrome.exe')\n",
    "                                                                       \n",
    "    def get_info(self,query):\n",
    "        self.query = query\n",
    "        self.driver.get(url=\"https://www.wikipedia.org\")\n",
    "        search = self.driver.find_element_by_xpath('//*[@id=\"searchInput\"]')# search box link of wikipedia \n",
    "        search.click()\n",
    "        search.send_keys(query)\n",
    "        enter = self.driver.find_element_by_xpath('//*[@id=\"search-form\"]/fieldset/button')\n",
    "        enter.click()\n",
    "        \n",
    "class music():\n",
    "    def __init__(self):\n",
    "        self.driver = webdriver.Chrome(service=Service(ChromeDriverManager().install()))\n",
    "        self.driver.get(\"https://www.google.com\")\n",
    "        \n",
    "    def play(self, query):\n",
    "        self.query = query\n",
    "        self.driver.get(url = \"https://www.youtube.com/results?search_query=\" + query)\n",
    "        video = self.driver.find_element_by_xpath('//*[@id=\"video-title\"]/yt-formatted-string')\n",
    "        video.click()"
   ]
  },
  {
   "cell_type": "code",
   "execution_count": 7,
   "metadata": {},
   "outputs": [
    {
     "name": "stdout",
     "output_type": "stream",
     "text": [
      "Listening...\n",
      "good\n",
      "Listening...\n"
     ]
    },
    {
     "name": "stderr",
     "output_type": "stream",
     "text": [
      "<ipython-input-7-eb10b6292146>:64: DeprecationWarning: getFact is deprecated. Please use get_fact\n",
      "  x = randfacts.getFact()\n"
     ]
    },
    {
     "name": "stdout",
     "output_type": "stream",
     "text": [
      "Herbert Hoover, who was the 31st president of the United Stated, turned over all the Federal salary checks he received to charity during the 47 years he was in government\n"
     ]
    }
   ],
   "source": [
    "r = sr.Recognizer()# creating a instance of recognizer class, it helps to retrieve in information from source that is Microphone\n",
    "wishMe()\n",
    "\n",
    "with sr.Microphone() as source:\n",
    "    r.energy_threshold = 10000 # it increase the spectrum of our voice \n",
    "    r.adjust_for_ambient_noise(source,1.2)# it cancels all the noise around \n",
    "    print(\"Listening...\")\n",
    "    audio = r.listen(source)\n",
    "    text = r.recognize_google(audio) #it sends the saved adio to the google api engine and will convert to text \n",
    "    print(text)\n",
    "    \n",
    "    \n",
    "if \"what\" and \"about\" and \"you\" in text:\n",
    "    speak(\"I'm having a great time\")\n",
    "    print(\"I'm having a great time\")\n",
    "#whileTrue loop to be added (like: what else can i do for you)\n",
    "speak(\"What can I do for you\")\n",
    "\n",
    "with sr.Microphone() as source:\n",
    "    r.energy_threshold = 10000 # it increase the spectrum of our voice \n",
    "    r.adjust_for_ambient_noise(source,1.2)# it cancels all the noise around \n",
    "    print(\"Listening...\")\n",
    "    audio = r.listen(source)\n",
    "    text2 = r.recognize_google(audio) #it sends the saved adio to the google api engine and will convert to text \n",
    "    \n",
    "if \"information\" in text2:\n",
    "    speak(\"you need information related to which topic\")\n",
    "    with sr.Microphone() as source:\n",
    "        r.energy_threshold = 10000 # it increase the spectrum of our voice \n",
    "        r.adjust_for_ambient_noise(source,1.2)# it cancels all the noise around \n",
    "        print(\"Listening...\")\n",
    "        audio = r.listen(source)\n",
    "        infor = r.recognize_google(audio) #it sends the saved adio to the google api engine and will convert to text  \n",
    "        \n",
    "    speak(\"Searching {} in wikipedia\".format(infor))\n",
    "    print(\"Searching {} in wikipedia\".format(infor))\n",
    "    assist =inflow()\n",
    "    assist.get_info(infor)\n",
    "    \n",
    "elif \"play\" and \"video\" in text2:\n",
    "    speak(\"Which video you want me to play ?\")\n",
    "    with sr.Microphone() as source:\n",
    "        r.energy_threshold = 10000 # it increase the spectrum of our voice \n",
    "        r.adjust_for_ambient_noise(source,1.2)# it cancels all the noise around \n",
    "        print(\"Listening...\")\n",
    "        audio = r.listen(source)\n",
    "        vid = r.recognize_google(audio)\n",
    "    \n",
    "    speak(\"playing {} on youtube\".format(vid))\n",
    "    print(\"playing {} on youtube\".format(vid))\n",
    "    assist = music()\n",
    "    assist.play(vid)\n",
    "    \n",
    "elif \"news\" in text2:\n",
    "    speak(\"sure!, I will read news for you\")\n",
    "    print(\"sure!, I will read news for you\")\n",
    "    arr = news()\n",
    "    for i in range(len(arr)):\n",
    "        speak(arr[i])\n",
    "        print(arr[i]) #repeating two times \n",
    "        \n",
    "elif \"fact\" or \"facts\" in text2:\n",
    "    speak(\"sure! here is the fact\")\n",
    "    x = randfacts.getFact()\n",
    "    print(x)\n",
    "    speak(\"did you known that,\" +x)"
   ]
  },
  {
   "cell_type": "code",
   "execution_count": 9,
   "metadata": {},
   "outputs": [
    {
     "name": "stdout",
     "output_type": "stream",
     "text": [
      "If loving you is ROM I don't wanna read write.\n"
     ]
    }
   ],
   "source": [
    "import pyjokes\n",
    "  \n",
    "# using get_joke() to generate a single joke\n",
    "#language is english\n",
    "#category is neutral\n",
    "My_joke = pyjokes.get_joke(language=\"en\", category=\"neutral\")\n",
    "  \n",
    "print(My_joke)\n",
    "speak(My_joke)"
   ]
  },
  {
   "cell_type": "code",
   "execution_count": null,
   "metadata": {},
   "outputs": [],
   "source": []
  },
  {
   "cell_type": "code",
   "execution_count": null,
   "metadata": {},
   "outputs": [],
   "source": []
  }
 ],
 "metadata": {
  "kernelspec": {
   "display_name": "Python 3",
   "language": "python",
   "name": "python3"
  },
  "language_info": {
   "codemirror_mode": {
    "name": "ipython",
    "version": 3
   },
   "file_extension": ".py",
   "mimetype": "text/x-python",
   "name": "python",
   "nbconvert_exporter": "python",
   "pygments_lexer": "ipython3",
   "version": "3.8.5"
  }
 },
 "nbformat": 4,
 "nbformat_minor": 4
}
