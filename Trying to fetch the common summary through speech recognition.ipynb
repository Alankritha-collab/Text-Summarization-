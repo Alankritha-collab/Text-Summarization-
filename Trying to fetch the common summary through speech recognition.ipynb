{
 "cells": [
  {
   "cell_type": "code",
   "execution_count": 3,
   "metadata": {},
   "outputs": [],
   "source": [
    "import pyttsx3 as p\n",
    "import speech_recognition as sr\n",
    "from goose3 import Goose"
   ]
  },
  {
   "cell_type": "code",
   "execution_count": 4,
   "metadata": {},
   "outputs": [],
   "source": [
    "engine = p.init() # initating p.init class engine is an instance of a p.init class which is insidethe pyttsx3 module  it just gets the informaion from the current driver \n",
    "rate =engine.getProperty('rate')# properties of pyttsx3\n",
    "engine.setProperty('rate', 180) #setting the speed of the voice \n",
    "voices = engine.getProperty('voices')\n",
    "engine.setProperty('voice',voices[1].id)# female voice\n",
    "#print(rate)\n",
    "#print(voices)\n",
    "\n",
    "#engine.say(\"helloworld\")\n",
    "#engine.runAndWait()\n"
   ]
  },
  {
   "cell_type": "code",
   "execution_count": 7,
   "metadata": {},
   "outputs": [],
   "source": [
    "def speak(text):\n",
    "    engine.say(text)\n",
    "    engine.runAndWait()\n",
    "\n",
    "def searchlinks(): \n",
    "    from goose3 import Goose\n",
    "    from googlesearch import search\n",
    "    import webbrowser as wb\n"
   ]
  },
  {
   "cell_type": "code",
   "execution_count": null,
   "metadata": {
    "scrolled": true
   },
   "outputs": [],
   "source": [
    "r = sr.Recognizer()\n",
    "with sr.Microphone() as source:\n",
    "    r.energy_threshold = 10000 # it increase the spectrum of our voice \n",
    "    r.adjust_for_ambient_noise(source,1.2)# it cancels all the noise around \n",
    "    speak(\"Hey How can I help you\")\n",
    "    speak(\"What are you looking for?\")\n",
    "    print(\"Listening...\")\n",
    "    \n",
    "    audio = r.listen(source)\n",
    "    text = r.recognize_google(audio) #it sends the saved adio to the google api engine and will convert to text\n",
    "    \n",
    "if \"search\" or \"google\" or \"links\" in text:\n",
    "    speak(\"searching googlelinks for which topic\")\n",
    "    with sr.Microphone() as source:\n",
    "        r.energy_threshold = 10000 # it increase the spectrum of our voice r.adjust_for_ambient_noise(source,1.2)# it cancels all the noise around \n",
    "        print(\"Listening...\")\n",
    "        audio = r.listen(source) #it sends the saved audio to the google api engine and will convert to text print(text2)\n",
    "        query = r.recognize_google(audio)\n",
    "        from googlesearch import search\n",
    "        l1=[]\n",
    "        #query = input(\"enter your query\")\n",
    "        for i in search(query, tld=\"com\",num=10,stop=15, pause=2):\n",
    "            print(i)\n",
    "            l1.append(i)        \n",
    "            g = Goose()\n",
    "    speak(\"here are the {} links you are searching for\".format(query))\n",
    "    print(\"here are the {} links you are searching for\".format(query))\n",
    "    \n",
    "    \n",
    "    speak(\"please enter the index of the link!by the way index starts with the number zero\")\n",
    "    speak(\"help me by the typing the index number of the link\")\n",
    "    print(\"enter the index of your link\")\n",
    "    \n",
    "    val=int(input())\n",
    "    url=l1[val]\n",
    "    print(url)\n",
    "    article = g.extract(url)\n",
    "    %store url\n",
    "    speak(\"stored url\")\n",
    "    speak(\"would you want me to genrate summary\")\n",
    "    with sr.Microphone() as source:\n",
    "        r.energy_threshold = 10000 # it increase the spectrum of our voice \n",
    "        r.adjust_for_ambient_noise(source,1.2)# it cancels all the noise around \n",
    "        print(\"Listening...\")\n",
    "        audio = r.listen(source)\n",
    "    if \"yes\" or \"generate\" or \"summary\" in text:\n",
    "        %store -r common_summary\n",
    "        common_summary\n",
    "    speak(common_summary)\n",
    "    print(common_summary)\n",
    "    if \"stop\" in text:\n",
    "        speak(\"Okay see you later\")"
   ]
  },
  {
   "cell_type": "code",
   "execution_count": null,
   "metadata": {},
   "outputs": [],
   "source": []
  }
 ],
 "metadata": {
  "kernelspec": {
   "display_name": "Python 3",
   "language": "python",
   "name": "python3"
  },
  "language_info": {
   "codemirror_mode": {
    "name": "ipython",
    "version": 3
   },
   "file_extension": ".py",
   "mimetype": "text/x-python",
   "name": "python",
   "nbconvert_exporter": "python",
   "pygments_lexer": "ipython3",
   "version": "3.8.5"
  }
 },
 "nbformat": 4,
 "nbformat_minor": 4
}
